{
  "cells": [
    {
      "cell_type": "code",
      "execution_count": 1,
      "id": "908ffbfb",
      "metadata": {
        "_cell_guid": "b1076dfc-b9ad-4769-8c92-a6c4dae69d19",
        "_uuid": "8f2839f25d086af736a60e9eeb907d3b93b6e0e5",
        "execution": {
          "iopub.execute_input": "2023-02-11T20:26:13.786891Z",
          "iopub.status.busy": "2023-02-11T20:26:13.785958Z",
          "iopub.status.idle": "2023-02-11T20:26:13.805473Z",
          "shell.execute_reply": "2023-02-11T20:26:13.804727Z"
        },
        "papermill": {
          "duration": 0.029351,
          "end_time": "2023-02-11T20:26:13.808195",
          "exception": false,
          "start_time": "2023-02-11T20:26:13.778844",
          "status": "completed"
        },
        "tags": [],
        "id": "908ffbfb"
      },
      "outputs": [],
      "source": [
        "# This Python 3 environment comes with many helpful analytics libraries installed\n",
        "# It is defined by the kaggle/python Docker image: https://github.com/kaggle/docker-python\n",
        "# For example, here's several helpful packages to load\n",
        "\n",
        "import numpy as np # linear algebra\n",
        "import pandas as pd # data processing, CSV file I/O (e.g. pd.read_csv)\n",
        "\n",
        "# Input data files are available in the read-only \"../input/\" directory\n",
        "# For example, running this (by clicking run or pressing Shift+Enter) will list all files under the input directory\n",
        "\n",
        "import os\n",
        "for dirname, _, filenames in os.walk('/kaggle/input'):\n",
        "    for filename in filenames:\n",
        "        print(os.path.join(dirname, filename))\n",
        "\n",
        "# You can write up to 20GB to the current directory (/kaggle/working/) that gets preserved as output when you create a version using \"Save & Run All\" \n",
        "# You can also write temporary files to /kaggle/temp/, but they won't be saved outside of the current session"
      ]
    },
    {
      "cell_type": "code",
      "execution_count": 2,
      "id": "d25352e7",
      "metadata": {
        "execution": {
          "iopub.execute_input": "2023-02-11T20:26:13.818231Z",
          "iopub.status.busy": "2023-02-11T20:26:13.817598Z",
          "iopub.status.idle": "2023-02-11T20:26:14.955640Z",
          "shell.execute_reply": "2023-02-11T20:26:14.954447Z"
        },
        "papermill": {
          "duration": 1.145876,
          "end_time": "2023-02-11T20:26:14.958359",
          "exception": false,
          "start_time": "2023-02-11T20:26:13.812483",
          "status": "completed"
        },
        "tags": [],
        "id": "d25352e7"
      },
      "outputs": [],
      "source": [
        "import numpy as np\n",
        "import pandas as pd\n",
        "import matplotlib.pyplot as plt\n",
        "import seaborn as sns\n",
        "from sklearn.utils import resample\n",
        "import seaborn as sb"
      ]
    },
    {
      "cell_type": "code",
      "execution_count": 3,
      "id": "e13bbb46",
      "metadata": {
        "execution": {
          "iopub.execute_input": "2023-02-11T20:26:14.984303Z",
          "iopub.status.busy": "2023-02-11T20:26:14.983900Z",
          "iopub.status.idle": "2023-02-11T20:26:15.038197Z",
          "shell.execute_reply": "2023-02-11T20:26:15.037117Z"
        },
        "papermill": {
          "duration": 0.062182,
          "end_time": "2023-02-11T20:26:15.040809",
          "exception": false,
          "start_time": "2023-02-11T20:26:14.978627",
          "status": "completed"
        },
        "tags": [],
        "colab": {
          "base_uri": "https://localhost:8080/",
          "height": 423
        },
        "id": "e13bbb46",
        "outputId": "fc21a30b-5164-4e12-d471-417a25e3dbb2"
      },
      "outputs": [
        {
          "output_type": "execute_result",
          "data": {
            "text/plain": [
              "        v1                                                 v2 Unnamed: 2  \\\n",
              "0      ham  Go until jurong point, crazy.. Available only ...        NaN   \n",
              "1      ham                      Ok lar... Joking wif u oni...        NaN   \n",
              "2     spam  Free entry in 2 a wkly comp to win FA Cup fina...        NaN   \n",
              "3      ham  U dun say so early hor... U c already then say...        NaN   \n",
              "4      ham  Nah I don't think he goes to usf, he lives aro...        NaN   \n",
              "...    ...                                                ...        ...   \n",
              "5567  spam  This is the 2nd time we have tried 2 contact u...        NaN   \n",
              "5568   ham             Will è b going to esplanade fr home?        NaN   \n",
              "5569   ham  Pity, * was in mood for that. So...any other s...        NaN   \n",
              "5570   ham  The guy did some bitching but I acted like i'd...        NaN   \n",
              "5571   ham                         Rofl. Its true to its name        NaN   \n",
              "\n",
              "     Unnamed: 3 Unnamed: 4  \n",
              "0           NaN        NaN  \n",
              "1           NaN        NaN  \n",
              "2           NaN        NaN  \n",
              "3           NaN        NaN  \n",
              "4           NaN        NaN  \n",
              "...         ...        ...  \n",
              "5567        NaN        NaN  \n",
              "5568        NaN        NaN  \n",
              "5569        NaN        NaN  \n",
              "5570        NaN        NaN  \n",
              "5571        NaN        NaN  \n",
              "\n",
              "[5572 rows x 5 columns]"
            ],
            "text/html": [
              "\n",
              "  <div id=\"df-e7f57f21-9b4e-427b-bfaa-957cd829545e\">\n",
              "    <div class=\"colab-df-container\">\n",
              "      <div>\n",
              "<style scoped>\n",
              "    .dataframe tbody tr th:only-of-type {\n",
              "        vertical-align: middle;\n",
              "    }\n",
              "\n",
              "    .dataframe tbody tr th {\n",
              "        vertical-align: top;\n",
              "    }\n",
              "\n",
              "    .dataframe thead th {\n",
              "        text-align: right;\n",
              "    }\n",
              "</style>\n",
              "<table border=\"1\" class=\"dataframe\">\n",
              "  <thead>\n",
              "    <tr style=\"text-align: right;\">\n",
              "      <th></th>\n",
              "      <th>v1</th>\n",
              "      <th>v2</th>\n",
              "      <th>Unnamed: 2</th>\n",
              "      <th>Unnamed: 3</th>\n",
              "      <th>Unnamed: 4</th>\n",
              "    </tr>\n",
              "  </thead>\n",
              "  <tbody>\n",
              "    <tr>\n",
              "      <th>0</th>\n",
              "      <td>ham</td>\n",
              "      <td>Go until jurong point, crazy.. Available only ...</td>\n",
              "      <td>NaN</td>\n",
              "      <td>NaN</td>\n",
              "      <td>NaN</td>\n",
              "    </tr>\n",
              "    <tr>\n",
              "      <th>1</th>\n",
              "      <td>ham</td>\n",
              "      <td>Ok lar... Joking wif u oni...</td>\n",
              "      <td>NaN</td>\n",
              "      <td>NaN</td>\n",
              "      <td>NaN</td>\n",
              "    </tr>\n",
              "    <tr>\n",
              "      <th>2</th>\n",
              "      <td>spam</td>\n",
              "      <td>Free entry in 2 a wkly comp to win FA Cup fina...</td>\n",
              "      <td>NaN</td>\n",
              "      <td>NaN</td>\n",
              "      <td>NaN</td>\n",
              "    </tr>\n",
              "    <tr>\n",
              "      <th>3</th>\n",
              "      <td>ham</td>\n",
              "      <td>U dun say so early hor... U c already then say...</td>\n",
              "      <td>NaN</td>\n",
              "      <td>NaN</td>\n",
              "      <td>NaN</td>\n",
              "    </tr>\n",
              "    <tr>\n",
              "      <th>4</th>\n",
              "      <td>ham</td>\n",
              "      <td>Nah I don't think he goes to usf, he lives aro...</td>\n",
              "      <td>NaN</td>\n",
              "      <td>NaN</td>\n",
              "      <td>NaN</td>\n",
              "    </tr>\n",
              "    <tr>\n",
              "      <th>...</th>\n",
              "      <td>...</td>\n",
              "      <td>...</td>\n",
              "      <td>...</td>\n",
              "      <td>...</td>\n",
              "      <td>...</td>\n",
              "    </tr>\n",
              "    <tr>\n",
              "      <th>5567</th>\n",
              "      <td>spam</td>\n",
              "      <td>This is the 2nd time we have tried 2 contact u...</td>\n",
              "      <td>NaN</td>\n",
              "      <td>NaN</td>\n",
              "      <td>NaN</td>\n",
              "    </tr>\n",
              "    <tr>\n",
              "      <th>5568</th>\n",
              "      <td>ham</td>\n",
              "      <td>Will è b going to esplanade fr home?</td>\n",
              "      <td>NaN</td>\n",
              "      <td>NaN</td>\n",
              "      <td>NaN</td>\n",
              "    </tr>\n",
              "    <tr>\n",
              "      <th>5569</th>\n",
              "      <td>ham</td>\n",
              "      <td>Pity, * was in mood for that. So...any other s...</td>\n",
              "      <td>NaN</td>\n",
              "      <td>NaN</td>\n",
              "      <td>NaN</td>\n",
              "    </tr>\n",
              "    <tr>\n",
              "      <th>5570</th>\n",
              "      <td>ham</td>\n",
              "      <td>The guy did some bitching but I acted like i'd...</td>\n",
              "      <td>NaN</td>\n",
              "      <td>NaN</td>\n",
              "      <td>NaN</td>\n",
              "    </tr>\n",
              "    <tr>\n",
              "      <th>5571</th>\n",
              "      <td>ham</td>\n",
              "      <td>Rofl. Its true to its name</td>\n",
              "      <td>NaN</td>\n",
              "      <td>NaN</td>\n",
              "      <td>NaN</td>\n",
              "    </tr>\n",
              "  </tbody>\n",
              "</table>\n",
              "<p>5572 rows × 5 columns</p>\n",
              "</div>\n",
              "      <button class=\"colab-df-convert\" onclick=\"convertToInteractive('df-e7f57f21-9b4e-427b-bfaa-957cd829545e')\"\n",
              "              title=\"Convert this dataframe to an interactive table.\"\n",
              "              style=\"display:none;\">\n",
              "        \n",
              "  <svg xmlns=\"http://www.w3.org/2000/svg\" height=\"24px\"viewBox=\"0 0 24 24\"\n",
              "       width=\"24px\">\n",
              "    <path d=\"M0 0h24v24H0V0z\" fill=\"none\"/>\n",
              "    <path d=\"M18.56 5.44l.94 2.06.94-2.06 2.06-.94-2.06-.94-.94-2.06-.94 2.06-2.06.94zm-11 1L8.5 8.5l.94-2.06 2.06-.94-2.06-.94L8.5 2.5l-.94 2.06-2.06.94zm10 10l.94 2.06.94-2.06 2.06-.94-2.06-.94-.94-2.06-.94 2.06-2.06.94z\"/><path d=\"M17.41 7.96l-1.37-1.37c-.4-.4-.92-.59-1.43-.59-.52 0-1.04.2-1.43.59L10.3 9.45l-7.72 7.72c-.78.78-.78 2.05 0 2.83L4 21.41c.39.39.9.59 1.41.59.51 0 1.02-.2 1.41-.59l7.78-7.78 2.81-2.81c.8-.78.8-2.07 0-2.86zM5.41 20L4 18.59l7.72-7.72 1.47 1.35L5.41 20z\"/>\n",
              "  </svg>\n",
              "      </button>\n",
              "      \n",
              "  <style>\n",
              "    .colab-df-container {\n",
              "      display:flex;\n",
              "      flex-wrap:wrap;\n",
              "      gap: 12px;\n",
              "    }\n",
              "\n",
              "    .colab-df-convert {\n",
              "      background-color: #E8F0FE;\n",
              "      border: none;\n",
              "      border-radius: 50%;\n",
              "      cursor: pointer;\n",
              "      display: none;\n",
              "      fill: #1967D2;\n",
              "      height: 32px;\n",
              "      padding: 0 0 0 0;\n",
              "      width: 32px;\n",
              "    }\n",
              "\n",
              "    .colab-df-convert:hover {\n",
              "      background-color: #E2EBFA;\n",
              "      box-shadow: 0px 1px 2px rgba(60, 64, 67, 0.3), 0px 1px 3px 1px rgba(60, 64, 67, 0.15);\n",
              "      fill: #174EA6;\n",
              "    }\n",
              "\n",
              "    [theme=dark] .colab-df-convert {\n",
              "      background-color: #3B4455;\n",
              "      fill: #D2E3FC;\n",
              "    }\n",
              "\n",
              "    [theme=dark] .colab-df-convert:hover {\n",
              "      background-color: #434B5C;\n",
              "      box-shadow: 0px 1px 3px 1px rgba(0, 0, 0, 0.15);\n",
              "      filter: drop-shadow(0px 1px 2px rgba(0, 0, 0, 0.3));\n",
              "      fill: #FFFFFF;\n",
              "    }\n",
              "  </style>\n",
              "\n",
              "      <script>\n",
              "        const buttonEl =\n",
              "          document.querySelector('#df-e7f57f21-9b4e-427b-bfaa-957cd829545e button.colab-df-convert');\n",
              "        buttonEl.style.display =\n",
              "          google.colab.kernel.accessAllowed ? 'block' : 'none';\n",
              "\n",
              "        async function convertToInteractive(key) {\n",
              "          const element = document.querySelector('#df-e7f57f21-9b4e-427b-bfaa-957cd829545e');\n",
              "          const dataTable =\n",
              "            await google.colab.kernel.invokeFunction('convertToInteractive',\n",
              "                                                     [key], {});\n",
              "          if (!dataTable) return;\n",
              "\n",
              "          const docLinkHtml = 'Like what you see? Visit the ' +\n",
              "            '<a target=\"_blank\" href=https://colab.research.google.com/notebooks/data_table.ipynb>data table notebook</a>'\n",
              "            + ' to learn more about interactive tables.';\n",
              "          element.innerHTML = '';\n",
              "          dataTable['output_type'] = 'display_data';\n",
              "          await google.colab.output.renderOutput(dataTable, element);\n",
              "          const docLink = document.createElement('div');\n",
              "          docLink.innerHTML = docLinkHtml;\n",
              "          element.appendChild(docLink);\n",
              "        }\n",
              "      </script>\n",
              "    </div>\n",
              "  </div>\n",
              "  "
            ]
          },
          "metadata": {},
          "execution_count": 3
        }
      ],
      "source": [
        "df=pd.read_csv(\"/content/archivetempspam.csv\",encoding=\"latin1\")\n",
        "df"
      ]
    },
    {
      "cell_type": "code",
      "execution_count": 4,
      "id": "4d337390",
      "metadata": {
        "execution": {
          "iopub.execute_input": "2023-02-11T20:26:15.052772Z",
          "iopub.status.busy": "2023-02-11T20:26:15.051659Z",
          "iopub.status.idle": "2023-02-11T20:26:15.076365Z",
          "shell.execute_reply": "2023-02-11T20:26:15.074818Z"
        },
        "papermill": {
          "duration": 0.033596,
          "end_time": "2023-02-11T20:26:15.079212",
          "exception": false,
          "start_time": "2023-02-11T20:26:15.045616",
          "status": "completed"
        },
        "tags": [],
        "colab": {
          "base_uri": "https://localhost:8080/"
        },
        "id": "4d337390",
        "outputId": "197c6e22-80f8-42b2-ed9b-8ed8f2a5bcc2"
      },
      "outputs": [
        {
          "output_type": "stream",
          "name": "stdout",
          "text": [
            "<class 'pandas.core.frame.DataFrame'>\n",
            "RangeIndex: 5572 entries, 0 to 5571\n",
            "Data columns (total 5 columns):\n",
            " #   Column      Non-Null Count  Dtype \n",
            "---  ------      --------------  ----- \n",
            " 0   v1          5572 non-null   object\n",
            " 1   v2          5572 non-null   object\n",
            " 2   Unnamed: 2  50 non-null     object\n",
            " 3   Unnamed: 3  12 non-null     object\n",
            " 4   Unnamed: 4  6 non-null      object\n",
            "dtypes: object(5)\n",
            "memory usage: 217.8+ KB\n"
          ]
        }
      ],
      "source": [
        "df.info()"
      ]
    },
    {
      "cell_type": "code",
      "execution_count": 5,
      "id": "298c5bae",
      "metadata": {
        "execution": {
          "iopub.execute_input": "2023-02-11T20:26:15.089834Z",
          "iopub.status.busy": "2023-02-11T20:26:15.089445Z",
          "iopub.status.idle": "2023-02-11T20:26:15.100229Z",
          "shell.execute_reply": "2023-02-11T20:26:15.099242Z"
        },
        "papermill": {
          "duration": 0.018631,
          "end_time": "2023-02-11T20:26:15.102511",
          "exception": false,
          "start_time": "2023-02-11T20:26:15.083880",
          "status": "completed"
        },
        "tags": [],
        "colab": {
          "base_uri": "https://localhost:8080/"
        },
        "id": "298c5bae",
        "outputId": "1c6b9695-4ce4-4536-d9b4-a33f49033854"
      },
      "outputs": [
        {
          "output_type": "execute_result",
          "data": {
            "text/plain": [
              "v1               0\n",
              "v2               0\n",
              "Unnamed: 2    5522\n",
              "Unnamed: 3    5560\n",
              "Unnamed: 4    5566\n",
              "dtype: int64"
            ]
          },
          "metadata": {},
          "execution_count": 5
        }
      ],
      "source": [
        "df.isnull().sum()"
      ]
    },
    {
      "cell_type": "code",
      "execution_count": 6,
      "id": "1889e431",
      "metadata": {
        "execution": {
          "iopub.execute_input": "2023-02-11T20:26:15.122974Z",
          "iopub.status.busy": "2023-02-11T20:26:15.122611Z",
          "iopub.status.idle": "2023-02-11T20:26:15.130759Z",
          "shell.execute_reply": "2023-02-11T20:26:15.129665Z"
        },
        "papermill": {
          "duration": 0.016868,
          "end_time": "2023-02-11T20:26:15.133044",
          "exception": false,
          "start_time": "2023-02-11T20:26:15.116176",
          "status": "completed"
        },
        "tags": [],
        "colab": {
          "base_uri": "https://localhost:8080/"
        },
        "id": "1889e431",
        "outputId": "64ddfba8-8bc7-4280-a159-69ecf69cc6c1"
      },
      "outputs": [
        {
          "output_type": "execute_result",
          "data": {
            "text/plain": [
              "0       Go until jurong point, crazy.. Available only ...\n",
              "1                           Ok lar... Joking wif u oni...\n",
              "2       Free entry in 2 a wkly comp to win FA Cup fina...\n",
              "3       U dun say so early hor... U c already then say...\n",
              "4       Nah I don't think he goes to usf, he lives aro...\n",
              "                              ...                        \n",
              "5567    This is the 2nd time we have tried 2 contact u...\n",
              "5568               Will è b going to esplanade fr home?\n",
              "5569    Pity, * was in mood for that. So...any other s...\n",
              "5570    The guy did some bitching but I acted like i'd...\n",
              "5571                           Rofl. Its true to its name\n",
              "Name: v2, Length: 5572, dtype: object"
            ]
          },
          "metadata": {},
          "execution_count": 6
        }
      ],
      "source": [
        "x=df.v2\n",
        "x"
      ]
    },
    {
      "cell_type": "code",
      "execution_count": 7,
      "id": "1449ded7",
      "metadata": {
        "execution": {
          "iopub.execute_input": "2023-02-11T20:26:15.144918Z",
          "iopub.status.busy": "2023-02-11T20:26:15.144264Z",
          "iopub.status.idle": "2023-02-11T20:26:15.152351Z",
          "shell.execute_reply": "2023-02-11T20:26:15.151477Z"
        },
        "papermill": {
          "duration": 0.016394,
          "end_time": "2023-02-11T20:26:15.154401",
          "exception": false,
          "start_time": "2023-02-11T20:26:15.138007",
          "status": "completed"
        },
        "tags": [],
        "colab": {
          "base_uri": "https://localhost:8080/"
        },
        "id": "1449ded7",
        "outputId": "5ff9104c-14a4-4f19-c1be-ab1103f62f79"
      },
      "outputs": [
        {
          "output_type": "execute_result",
          "data": {
            "text/plain": [
              "0        ham\n",
              "1        ham\n",
              "2       spam\n",
              "3        ham\n",
              "4        ham\n",
              "        ... \n",
              "5567    spam\n",
              "5568     ham\n",
              "5569     ham\n",
              "5570     ham\n",
              "5571     ham\n",
              "Name: v1, Length: 5572, dtype: object"
            ]
          },
          "metadata": {},
          "execution_count": 7
        }
      ],
      "source": [
        "y=df.v1\n",
        "y"
      ]
    },
    {
      "cell_type": "code",
      "execution_count": 8,
      "id": "3864e92d",
      "metadata": {
        "execution": {
          "iopub.execute_input": "2023-02-11T20:26:15.177051Z",
          "iopub.status.busy": "2023-02-11T20:26:15.176402Z",
          "iopub.status.idle": "2023-02-11T20:26:15.188262Z",
          "shell.execute_reply": "2023-02-11T20:26:15.187272Z"
        },
        "papermill": {
          "duration": 0.020533,
          "end_time": "2023-02-11T20:26:15.190435",
          "exception": false,
          "start_time": "2023-02-11T20:26:15.169902",
          "status": "completed"
        },
        "tags": [],
        "colab": {
          "base_uri": "https://localhost:8080/"
        },
        "id": "3864e92d",
        "outputId": "a43f49be-2b97-4de9-f58a-b97741333b85"
      },
      "outputs": [
        {
          "output_type": "execute_result",
          "data": {
            "text/plain": [
              "0       1\n",
              "1       1\n",
              "2       0\n",
              "3       1\n",
              "4       1\n",
              "       ..\n",
              "5567    0\n",
              "5568    1\n",
              "5569    1\n",
              "5570    1\n",
              "5571    1\n",
              "Name: v1, Length: 5572, dtype: int64"
            ]
          },
          "metadata": {},
          "execution_count": 8
        }
      ],
      "source": [
        "y.replace(to_replace='ham',value=1,inplace=True)\n",
        "y.replace(to_replace='spam',value=0,inplace=True)\n",
        "y"
      ]
    },
    {
      "cell_type": "code",
      "execution_count": 9,
      "id": "d2a98875",
      "metadata": {
        "execution": {
          "iopub.execute_input": "2023-02-11T20:26:15.213000Z",
          "iopub.status.busy": "2023-02-11T20:26:15.212335Z",
          "iopub.status.idle": "2023-02-11T20:26:15.220224Z",
          "shell.execute_reply": "2023-02-11T20:26:15.219352Z"
        },
        "papermill": {
          "duration": 0.016503,
          "end_time": "2023-02-11T20:26:15.222265",
          "exception": false,
          "start_time": "2023-02-11T20:26:15.205762",
          "status": "completed"
        },
        "tags": [],
        "colab": {
          "base_uri": "https://localhost:8080/"
        },
        "id": "d2a98875",
        "outputId": "8a08a297-6c9f-4558-e2ad-a36c8026acef"
      },
      "outputs": [
        {
          "output_type": "execute_result",
          "data": {
            "text/plain": [
              "1    4825\n",
              "0     747\n",
              "Name: v1, dtype: int64"
            ]
          },
          "metadata": {},
          "execution_count": 9
        }
      ],
      "source": [
        "y=df.v1\n",
        "y.value_counts()"
      ]
    },
    {
      "cell_type": "code",
      "execution_count": 10,
      "id": "903196b0",
      "metadata": {
        "execution": {
          "iopub.execute_input": "2023-02-11T20:26:15.235048Z",
          "iopub.status.busy": "2023-02-11T20:26:15.234400Z",
          "iopub.status.idle": "2023-02-11T20:26:15.497232Z",
          "shell.execute_reply": "2023-02-11T20:26:15.496152Z"
        },
        "papermill": {
          "duration": 0.272039,
          "end_time": "2023-02-11T20:26:15.499680",
          "exception": false,
          "start_time": "2023-02-11T20:26:15.227641",
          "status": "completed"
        },
        "tags": [],
        "colab": {
          "base_uri": "https://localhost:8080/",
          "height": 467
        },
        "id": "903196b0",
        "outputId": "f5fb2a6f-06c2-4f17-bd71-8102456e58a8"
      },
      "outputs": [
        {
          "output_type": "execute_result",
          "data": {
            "text/plain": [
              "<Axes: xlabel='v1', ylabel='Count'>"
            ]
          },
          "metadata": {},
          "execution_count": 10
        },
        {
          "output_type": "display_data",
          "data": {
            "text/plain": [
              "<Figure size 640x480 with 1 Axes>"
            ],
            "image/png": "[encoded data removed]"
          },
          "metadata": {}
        }
      ],
      "source": [
        "sb.histplot(y)"
      ]
    },
    {
      "cell_type": "code",
      "execution_count": 11,
      "id": "47edf8b4",
      "metadata": {
        "execution": {
          "iopub.execute_input": "2023-02-11T20:26:15.524556Z",
          "iopub.status.busy": "2023-02-11T20:26:15.523832Z",
          "iopub.status.idle": "2023-02-11T20:26:15.608743Z",
          "shell.execute_reply": "2023-02-11T20:26:15.607721Z"
        },
        "papermill": {
          "duration": 0.094578,
          "end_time": "2023-02-11T20:26:15.611631",
          "exception": false,
          "start_time": "2023-02-11T20:26:15.517053",
          "status": "completed"
        },
        "tags": [],
        "id": "47edf8b4"
      },
      "outputs": [],
      "source": [
        "from sklearn.model_selection import train_test_split\n",
        "x_train,x_test,y_train,y_test=train_test_split(x,y,train_size=0.9,random_state=25)"
      ]
    },
    {
      "cell_type": "code",
      "execution_count": 12,
      "id": "37fa7dd9",
      "metadata": {
        "execution": {
          "iopub.execute_input": "2023-02-11T20:26:15.637492Z",
          "iopub.status.busy": "2023-02-11T20:26:15.636828Z",
          "iopub.status.idle": "2023-02-11T20:26:15.644140Z",
          "shell.execute_reply": "2023-02-11T20:26:15.643429Z"
        },
        "papermill": {
          "duration": 0.016602,
          "end_time": "2023-02-11T20:26:15.646270",
          "exception": false,
          "start_time": "2023-02-11T20:26:15.629668",
          "status": "completed"
        },
        "tags": [],
        "id": "37fa7dd9"
      },
      "outputs": [],
      "source": [
        "gok= pd.concat([x_train, y_train], axis=1)\n",
        "\n",
        "# separate minority and majority classes\n",
        "spam = gok[gok.v1==0]\n",
        "ham = gok[gok.v1==1]"
      ]
    }
  ],
  "metadata": {
    "kernelspec": {
      "display_name": "Python 3",
      "language": "python",
      "name": "python3"
    },
    "language_info": {
      "codemirror_mode": {
        "name": "ipython",
        "version": 3
      },
      "file_extension": ".py",
      "mimetype": "text/x-python",
      "name": "python",
      "nbconvert_exporter": "python",
      "pygments_lexer": "ipython3",
      "version": "3.7.12"
    },
    "papermill": {
      "default_parameters": {},
      "duration": 10.816279,
      "end_time": "2023-02-11T20:26:16.374342",
      "environment_variables": {},
      "exception": null,
      "input_path": "__notebook__.ipynb",
      "output_path": "__notebook__.ipynb",
      "parameters": {},
      "start_time": "2023-02-11T20:26:05.558063",
      "version": "2.3.4"
    },
    "colab": {
      "provenance": []
    }
  },
  "nbformat": 4,
  "nbformat_minor": 5
}